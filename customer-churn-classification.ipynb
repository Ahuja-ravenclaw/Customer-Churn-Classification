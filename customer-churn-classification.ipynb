{
 "cells": [
  {
   "cell_type": "code",
   "execution_count": 1,
   "id": "adb9298a",
   "metadata": {
    "execution": {
     "iopub.execute_input": "2022-07-22T17:51:26.623097Z",
     "iopub.status.busy": "2022-07-22T17:51:26.622617Z",
     "iopub.status.idle": "2022-07-22T17:51:28.442728Z",
     "shell.execute_reply": "2022-07-22T17:51:28.441092Z"
    },
    "papermill": {
     "duration": 1.84515,
     "end_time": "2022-07-22T17:51:28.448514",
     "exception": false,
     "start_time": "2022-07-22T17:51:26.603364",
     "status": "completed"
    },
    "tags": []
   },
   "outputs": [],
   "source": [
    "import pandas as pd\n",
    "import numpy as np\n",
    "import matplotlib.pyplot as plt\n",
    "import math\n",
    "from sklearn.metrics import mutual_info_score\n",
    "from sklearn.model_selection import train_test_split\n",
    "import seaborn as sns\n",
    "sns.set()"
   ]
  },
  {
   "cell_type": "markdown",
   "id": "e1479ffe",
   "metadata": {
    "papermill": {
     "duration": 0.015585,
     "end_time": "2022-07-22T17:51:28.480925",
     "exception": false,
     "start_time": "2022-07-22T17:51:28.465340",
     "status": "completed"
    },
    "tags": []
   },
   "source": [
    "#### Predicting customer churn is critical for companies to be able to effectively retain customers. \n",
    "#### It is more costly to acquire new customers than to retain existing ones. "
   ]
  },
  {
   "cell_type": "markdown",
   "id": "94f64fc7",
   "metadata": {
    "papermill": {
     "duration": 0.015896,
     "end_time": "2022-07-22T17:51:28.511776",
     "exception": false,
     "start_time": "2022-07-22T17:51:28.495880",
     "status": "completed"
    },
    "tags": []
   },
   "source": [
    "# 1. Data Reading"
   ]
  },
  {
   "cell_type": "code",
   "execution_count": 2,
   "id": "049835d2",
   "metadata": {
    "execution": {
     "iopub.execute_input": "2022-07-22T17:51:28.545303Z",
     "iopub.status.busy": "2022-07-22T17:51:28.544036Z",
     "iopub.status.idle": "2022-07-22T17:51:28.612141Z",
     "shell.execute_reply": "2022-07-22T17:51:28.611002Z"
    },
    "papermill": {
     "duration": 0.088267,
     "end_time": "2022-07-22T17:51:28.615047",
     "exception": false,
     "start_time": "2022-07-22T17:51:28.526780",
     "status": "completed"
    },
    "tags": []
   },
   "outputs": [],
   "source": [
    "df = pd.read_csv(\"../input/telco-customer-churn/WA_Fn-UseC_-Telco-Customer-Churn.csv\")"
   ]
  },
  {
   "cell_type": "code",
   "execution_count": 3,
   "id": "62f581d7",
   "metadata": {
    "execution": {
     "iopub.execute_input": "2022-07-22T17:51:28.647835Z",
     "iopub.status.busy": "2022-07-22T17:51:28.647103Z",
     "iopub.status.idle": "2022-07-22T17:51:28.703990Z",
     "shell.execute_reply": "2022-07-22T17:51:28.702788Z"
    },
    "papermill": {
     "duration": 0.076308,
     "end_time": "2022-07-22T17:51:28.707018",
     "exception": false,
     "start_time": "2022-07-22T17:51:28.630710",
     "status": "completed"
    },
    "tags": []
   },
   "outputs": [
    {
     "data": {
      "text/html": [
       "<div>\n",
       "<style scoped>\n",
       "    .dataframe tbody tr th:only-of-type {\n",
       "        vertical-align: middle;\n",
       "    }\n",
       "\n",
       "    .dataframe tbody tr th {\n",
       "        vertical-align: top;\n",
       "    }\n",
       "\n",
       "    .dataframe thead th {\n",
       "        text-align: right;\n",
       "    }\n",
       "</style>\n",
       "<table border=\"1\" class=\"dataframe\">\n",
       "  <thead>\n",
       "    <tr style=\"text-align: right;\">\n",
       "      <th></th>\n",
       "      <th>customerID</th>\n",
       "      <th>gender</th>\n",
       "      <th>SeniorCitizen</th>\n",
       "      <th>Partner</th>\n",
       "      <th>Dependents</th>\n",
       "      <th>tenure</th>\n",
       "      <th>PhoneService</th>\n",
       "      <th>MultipleLines</th>\n",
       "      <th>InternetService</th>\n",
       "      <th>OnlineSecurity</th>\n",
       "      <th>...</th>\n",
       "      <th>DeviceProtection</th>\n",
       "      <th>TechSupport</th>\n",
       "      <th>StreamingTV</th>\n",
       "      <th>StreamingMovies</th>\n",
       "      <th>Contract</th>\n",
       "      <th>PaperlessBilling</th>\n",
       "      <th>PaymentMethod</th>\n",
       "      <th>MonthlyCharges</th>\n",
       "      <th>TotalCharges</th>\n",
       "      <th>Churn</th>\n",
       "    </tr>\n",
       "  </thead>\n",
       "  <tbody>\n",
       "    <tr>\n",
       "      <th>0</th>\n",
       "      <td>7590-VHVEG</td>\n",
       "      <td>Female</td>\n",
       "      <td>0</td>\n",
       "      <td>Yes</td>\n",
       "      <td>No</td>\n",
       "      <td>1</td>\n",
       "      <td>No</td>\n",
       "      <td>No phone service</td>\n",
       "      <td>DSL</td>\n",
       "      <td>No</td>\n",
       "      <td>...</td>\n",
       "      <td>No</td>\n",
       "      <td>No</td>\n",
       "      <td>No</td>\n",
       "      <td>No</td>\n",
       "      <td>Month-to-month</td>\n",
       "      <td>Yes</td>\n",
       "      <td>Electronic check</td>\n",
       "      <td>29.85</td>\n",
       "      <td>29.85</td>\n",
       "      <td>No</td>\n",
       "    </tr>\n",
       "    <tr>\n",
       "      <th>1</th>\n",
       "      <td>5575-GNVDE</td>\n",
       "      <td>Male</td>\n",
       "      <td>0</td>\n",
       "      <td>No</td>\n",
       "      <td>No</td>\n",
       "      <td>34</td>\n",
       "      <td>Yes</td>\n",
       "      <td>No</td>\n",
       "      <td>DSL</td>\n",
       "      <td>Yes</td>\n",
       "      <td>...</td>\n",
       "      <td>Yes</td>\n",
       "      <td>No</td>\n",
       "      <td>No</td>\n",
       "      <td>No</td>\n",
       "      <td>One year</td>\n",
       "      <td>No</td>\n",
       "      <td>Mailed check</td>\n",
       "      <td>56.95</td>\n",
       "      <td>1889.5</td>\n",
       "      <td>No</td>\n",
       "    </tr>\n",
       "    <tr>\n",
       "      <th>2</th>\n",
       "      <td>3668-QPYBK</td>\n",
       "      <td>Male</td>\n",
       "      <td>0</td>\n",
       "      <td>No</td>\n",
       "      <td>No</td>\n",
       "      <td>2</td>\n",
       "      <td>Yes</td>\n",
       "      <td>No</td>\n",
       "      <td>DSL</td>\n",
       "      <td>Yes</td>\n",
       "      <td>...</td>\n",
       "      <td>No</td>\n",
       "      <td>No</td>\n",
       "      <td>No</td>\n",
       "      <td>No</td>\n",
       "      <td>Month-to-month</td>\n",
       "      <td>Yes</td>\n",
       "      <td>Mailed check</td>\n",
       "      <td>53.85</td>\n",
       "      <td>108.15</td>\n",
       "      <td>Yes</td>\n",
       "    </tr>\n",
       "    <tr>\n",
       "      <th>3</th>\n",
       "      <td>7795-CFOCW</td>\n",
       "      <td>Male</td>\n",
       "      <td>0</td>\n",
       "      <td>No</td>\n",
       "      <td>No</td>\n",
       "      <td>45</td>\n",
       "      <td>No</td>\n",
       "      <td>No phone service</td>\n",
       "      <td>DSL</td>\n",
       "      <td>Yes</td>\n",
       "      <td>...</td>\n",
       "      <td>Yes</td>\n",
       "      <td>Yes</td>\n",
       "      <td>No</td>\n",
       "      <td>No</td>\n",
       "      <td>One year</td>\n",
       "      <td>No</td>\n",
       "      <td>Bank transfer (automatic)</td>\n",
       "      <td>42.30</td>\n",
       "      <td>1840.75</td>\n",
       "      <td>No</td>\n",
       "    </tr>\n",
       "    <tr>\n",
       "      <th>4</th>\n",
       "      <td>9237-HQITU</td>\n",
       "      <td>Female</td>\n",
       "      <td>0</td>\n",
       "      <td>No</td>\n",
       "      <td>No</td>\n",
       "      <td>2</td>\n",
       "      <td>Yes</td>\n",
       "      <td>No</td>\n",
       "      <td>Fiber optic</td>\n",
       "      <td>No</td>\n",
       "      <td>...</td>\n",
       "      <td>No</td>\n",
       "      <td>No</td>\n",
       "      <td>No</td>\n",
       "      <td>No</td>\n",
       "      <td>Month-to-month</td>\n",
       "      <td>Yes</td>\n",
       "      <td>Electronic check</td>\n",
       "      <td>70.70</td>\n",
       "      <td>151.65</td>\n",
       "      <td>Yes</td>\n",
       "    </tr>\n",
       "    <tr>\n",
       "      <th>5</th>\n",
       "      <td>9305-CDSKC</td>\n",
       "      <td>Female</td>\n",
       "      <td>0</td>\n",
       "      <td>No</td>\n",
       "      <td>No</td>\n",
       "      <td>8</td>\n",
       "      <td>Yes</td>\n",
       "      <td>Yes</td>\n",
       "      <td>Fiber optic</td>\n",
       "      <td>No</td>\n",
       "      <td>...</td>\n",
       "      <td>Yes</td>\n",
       "      <td>No</td>\n",
       "      <td>Yes</td>\n",
       "      <td>Yes</td>\n",
       "      <td>Month-to-month</td>\n",
       "      <td>Yes</td>\n",
       "      <td>Electronic check</td>\n",
       "      <td>99.65</td>\n",
       "      <td>820.5</td>\n",
       "      <td>Yes</td>\n",
       "    </tr>\n",
       "  </tbody>\n",
       "</table>\n",
       "<p>6 rows × 21 columns</p>\n",
       "</div>"
      ],
      "text/plain": [
       "   customerID  gender  SeniorCitizen Partner Dependents  tenure PhoneService  \\\n",
       "0  7590-VHVEG  Female              0     Yes         No       1           No   \n",
       "1  5575-GNVDE    Male              0      No         No      34          Yes   \n",
       "2  3668-QPYBK    Male              0      No         No       2          Yes   \n",
       "3  7795-CFOCW    Male              0      No         No      45           No   \n",
       "4  9237-HQITU  Female              0      No         No       2          Yes   \n",
       "5  9305-CDSKC  Female              0      No         No       8          Yes   \n",
       "\n",
       "      MultipleLines InternetService OnlineSecurity  ... DeviceProtection  \\\n",
       "0  No phone service             DSL             No  ...               No   \n",
       "1                No             DSL            Yes  ...              Yes   \n",
       "2                No             DSL            Yes  ...               No   \n",
       "3  No phone service             DSL            Yes  ...              Yes   \n",
       "4                No     Fiber optic             No  ...               No   \n",
       "5               Yes     Fiber optic             No  ...              Yes   \n",
       "\n",
       "  TechSupport StreamingTV StreamingMovies        Contract PaperlessBilling  \\\n",
       "0          No          No              No  Month-to-month              Yes   \n",
       "1          No          No              No        One year               No   \n",
       "2          No          No              No  Month-to-month              Yes   \n",
       "3         Yes          No              No        One year               No   \n",
       "4          No          No              No  Month-to-month              Yes   \n",
       "5          No         Yes             Yes  Month-to-month              Yes   \n",
       "\n",
       "               PaymentMethod MonthlyCharges  TotalCharges Churn  \n",
       "0           Electronic check          29.85         29.85    No  \n",
       "1               Mailed check          56.95        1889.5    No  \n",
       "2               Mailed check          53.85        108.15   Yes  \n",
       "3  Bank transfer (automatic)          42.30       1840.75    No  \n",
       "4           Electronic check          70.70        151.65   Yes  \n",
       "5           Electronic check          99.65         820.5   Yes  \n",
       "\n",
       "[6 rows x 21 columns]"
      ]
     },
     "execution_count": 3,
     "metadata": {},
     "output_type": "execute_result"
    }
   ],
   "source": [
    "df.head(6)"
   ]
  },
  {
   "cell_type": "markdown",
   "id": "23daaf27",
   "metadata": {
    "papermill": {
     "duration": 0.016618,
     "end_time": "2022-07-22T17:51:28.740690",
     "exception": false,
     "start_time": "2022-07-22T17:51:28.724072",
     "status": "completed"
    },
    "tags": []
   },
   "source": [
    "The data set used in this article is available in the Kaggle and contains nineteen columns (independent variables) that indicate the characteristics of the clients of a fictional telecommunications corporation.\n",
    "\n",
    "The Churn column (response variable) indicates whether the customer departed within the last month or not. The class No includes the clients that did not leave the company last month, while the class Yes contains the clients that decided to terminate their relations with the company.\n",
    "\n",
    "The original IBM data can be found in the following link: https://www.ibm.com/docs/en/cognos-analytics/11.1.0?topic=samples-telco-customer-churn"
   ]
  },
  {
   "cell_type": "code",
   "execution_count": 4,
   "id": "ec79a4ce",
   "metadata": {
    "execution": {
     "iopub.execute_input": "2022-07-22T17:51:28.779109Z",
     "iopub.status.busy": "2022-07-22T17:51:28.777745Z",
     "iopub.status.idle": "2022-07-22T17:51:28.787428Z",
     "shell.execute_reply": "2022-07-22T17:51:28.786615Z"
    },
    "papermill": {
     "duration": 0.031452,
     "end_time": "2022-07-22T17:51:28.789851",
     "exception": false,
     "start_time": "2022-07-22T17:51:28.758399",
     "status": "completed"
    },
    "tags": []
   },
   "outputs": [
    {
     "data": {
      "text/plain": [
       "Index(['customerID', 'gender', 'SeniorCitizen', 'Partner', 'Dependents',\n",
       "       'tenure', 'PhoneService', 'MultipleLines', 'InternetService',\n",
       "       'OnlineSecurity', 'OnlineBackup', 'DeviceProtection', 'TechSupport',\n",
       "       'StreamingTV', 'StreamingMovies', 'Contract', 'PaperlessBilling',\n",
       "       'PaymentMethod', 'MonthlyCharges', 'TotalCharges', 'Churn'],\n",
       "      dtype='object')"
      ]
     },
     "execution_count": 4,
     "metadata": {},
     "output_type": "execute_result"
    }
   ],
   "source": [
    "df.columns"
   ]
  },
  {
   "cell_type": "markdown",
   "id": "adfc115b",
   "metadata": {
    "papermill": {
     "duration": 0.017328,
     "end_time": "2022-07-22T17:51:28.824064",
     "exception": false,
     "start_time": "2022-07-22T17:51:28.806736",
     "status": "completed"
    },
    "tags": []
   },
   "source": [
    "As shown above, the data set contains 19 independent variables, which can be classified into 3 groups:\n",
    "\n",
    "#### (1) Demographic Information\n",
    "\n",
    "gender: Whether the client is a female or a male (Female, Male).\n",
    "\n",
    "SeniorCitizen: Whether the client is a senior citizen or not ( 0, 1).\n",
    "\n",
    "Partner: Whether the client has a partner or not (Yes, No).\n",
    "\n",
    "Dependents: Whether the client has dependents or not (Yes, No).\n",
    "\n",
    "#### (2) Customer Account Information\n",
    "\n",
    "tenure: Number of months the customer has stayed with the company (Multiple different numeric values).\n",
    "\n",
    "Contract: Indicates the customer’s current contract type (Month-to-Month, One year, Two year).\n",
    "\n",
    "PaperlessBilling: Whether the client has paperless billing or not (Yes, No).\n",
    "\n",
    "PaymentMethod: The customer’s payment method (Electronic check, Mailed check, Bank transfer (automatic), Credit Card (automatic)).\n",
    "\n",
    "MontlyCharges: The amount charged to the customer monthly (Multiple different numeric values).\n",
    "\n",
    "TotalCharges: The total amount charged to the customer (Multiple different numeric values).\n",
    "\n",
    "#### (3) Services Information\n",
    "\n",
    "PhoneService: Whether the client has a phone service or not (Yes, No).\n",
    "\n",
    "MultipleLines: Whether the client has multiple lines or not (No phone service, No, Yes).\n",
    "\n",
    "InternetServices: Whether the client is subscribed to Internet service with the company (DSL, Fiber optic, No)\n",
    "\n",
    "OnlineSecurity: Whether the client has online security or not (No internet service, No, Yes).\n",
    "\n",
    "OnlineBackup: Whether the client has online backup or not (No internet service, No, Yes).\n",
    "\n",
    "DeviceProtection: Whether the client has device protection or not (No internet service, No, Yes).\n",
    "\n",
    "TechSupport: Whether the client has tech support or not (No internet service, No, Yes).\n",
    "\n",
    "StreamingTV: Whether the client has streaming TV or not (No internet service, No, Yes).\n",
    "\n",
    "StreamingMovies: Whether the client has streaming movies or not (No internet service, No, Yes).\n"
   ]
  },
  {
   "cell_type": "markdown",
   "id": "e6049525",
   "metadata": {
    "papermill": {
     "duration": 0.015963,
     "end_time": "2022-07-22T17:51:28.860061",
     "exception": false,
     "start_time": "2022-07-22T17:51:28.844098",
     "status": "completed"
    },
    "tags": []
   },
   "source": [
    "# 2. Exploratory Data Analysis and Data Cleaning"
   ]
  },
  {
   "cell_type": "code",
   "execution_count": 5,
   "id": "a627381f",
   "metadata": {
    "execution": {
     "iopub.execute_input": "2022-07-22T17:51:28.893966Z",
     "iopub.status.busy": "2022-07-22T17:51:28.893011Z",
     "iopub.status.idle": "2022-07-22T17:51:28.900990Z",
     "shell.execute_reply": "2022-07-22T17:51:28.899797Z"
    },
    "papermill": {
     "duration": 0.028325,
     "end_time": "2022-07-22T17:51:28.903878",
     "exception": false,
     "start_time": "2022-07-22T17:51:28.875553",
     "status": "completed"
    },
    "tags": []
   },
   "outputs": [
    {
     "data": {
      "text/plain": [
       "(7043, 21)"
      ]
     },
     "execution_count": 5,
     "metadata": {},
     "output_type": "execute_result"
    }
   ],
   "source": [
    "df.shape"
   ]
  },
  {
   "cell_type": "code",
   "execution_count": 6,
   "id": "5b88e5a3",
   "metadata": {
    "execution": {
     "iopub.execute_input": "2022-07-22T17:51:28.938824Z",
     "iopub.status.busy": "2022-07-22T17:51:28.937750Z",
     "iopub.status.idle": "2022-07-22T17:51:28.979437Z",
     "shell.execute_reply": "2022-07-22T17:51:28.977761Z"
    },
    "papermill": {
     "duration": 0.063412,
     "end_time": "2022-07-22T17:51:28.982533",
     "exception": false,
     "start_time": "2022-07-22T17:51:28.919121",
     "status": "completed"
    },
    "tags": []
   },
   "outputs": [
    {
     "name": "stdout",
     "output_type": "stream",
     "text": [
      "Column: customerID - Unique Values: ['7590-VHVEG' '5575-GNVDE' '3668-QPYBK' ... '4801-JZAZL' '8361-LTMKD'\n",
      " '3186-AJIEK']\n",
      "Column: gender - Unique Values: ['Female' 'Male']\n",
      "Column: SeniorCitizen - Unique Values: [0 1]\n",
      "Column: Partner - Unique Values: ['Yes' 'No']\n",
      "Column: Dependents - Unique Values: ['No' 'Yes']\n",
      "Column: tenure - Unique Values: [ 1 34  2 45  8 22 10 28 62 13 16 58 49 25 69 52 71 21 12 30 47 72 17 27\n",
      "  5 46 11 70 63 43 15 60 18 66  9  3 31 50 64 56  7 42 35 48 29 65 38 68\n",
      " 32 55 37 36 41  6  4 33 67 23 57 61 14 20 53 40 59 24 44 19 54 51 26  0\n",
      " 39]\n",
      "Column: PhoneService - Unique Values: ['No' 'Yes']\n",
      "Column: MultipleLines - Unique Values: ['No phone service' 'No' 'Yes']\n",
      "Column: InternetService - Unique Values: ['DSL' 'Fiber optic' 'No']\n",
      "Column: OnlineSecurity - Unique Values: ['No' 'Yes' 'No internet service']\n",
      "Column: OnlineBackup - Unique Values: ['Yes' 'No' 'No internet service']\n",
      "Column: DeviceProtection - Unique Values: ['No' 'Yes' 'No internet service']\n",
      "Column: TechSupport - Unique Values: ['No' 'Yes' 'No internet service']\n",
      "Column: StreamingTV - Unique Values: ['No' 'Yes' 'No internet service']\n",
      "Column: StreamingMovies - Unique Values: ['No' 'Yes' 'No internet service']\n",
      "Column: Contract - Unique Values: ['Month-to-month' 'One year' 'Two year']\n",
      "Column: PaperlessBilling - Unique Values: ['Yes' 'No']\n",
      "Column: PaymentMethod - Unique Values: ['Electronic check' 'Mailed check' 'Bank transfer (automatic)'\n",
      " 'Credit card (automatic)']\n",
      "Column: MonthlyCharges - Unique Values: [29.85 56.95 53.85 ... 63.1  44.2  78.7 ]\n",
      "Column: TotalCharges - Unique Values: ['29.85' '1889.5' '108.15' ... '346.45' '306.6' '6844.5']\n",
      "Column: Churn - Unique Values: ['No' 'Yes']\n"
     ]
    }
   ],
   "source": [
    "# check unique values of each column\n",
    "for column in df.columns:\n",
    "    print('Column: {} - Unique Values: {}'.format(column, df[column].unique()))"
   ]
  },
  {
   "cell_type": "code",
   "execution_count": 7,
   "id": "8762eca0",
   "metadata": {
    "execution": {
     "iopub.execute_input": "2022-07-22T17:51:29.015478Z",
     "iopub.status.busy": "2022-07-22T17:51:29.014818Z",
     "iopub.status.idle": "2022-07-22T17:51:29.056182Z",
     "shell.execute_reply": "2022-07-22T17:51:29.054280Z"
    },
    "papermill": {
     "duration": 0.062402,
     "end_time": "2022-07-22T17:51:29.059879",
     "exception": false,
     "start_time": "2022-07-22T17:51:28.997477",
     "status": "completed"
    },
    "tags": []
   },
   "outputs": [
    {
     "name": "stdout",
     "output_type": "stream",
     "text": [
      "<class 'pandas.core.frame.DataFrame'>\n",
      "RangeIndex: 7043 entries, 0 to 7042\n",
      "Data columns (total 21 columns):\n",
      " #   Column            Non-Null Count  Dtype  \n",
      "---  ------            --------------  -----  \n",
      " 0   customerID        7043 non-null   object \n",
      " 1   gender            7043 non-null   object \n",
      " 2   SeniorCitizen     7043 non-null   int64  \n",
      " 3   Partner           7043 non-null   object \n",
      " 4   Dependents        7043 non-null   object \n",
      " 5   tenure            7043 non-null   int64  \n",
      " 6   PhoneService      7043 non-null   object \n",
      " 7   MultipleLines     7043 non-null   object \n",
      " 8   InternetService   7043 non-null   object \n",
      " 9   OnlineSecurity    7043 non-null   object \n",
      " 10  OnlineBackup      7043 non-null   object \n",
      " 11  DeviceProtection  7043 non-null   object \n",
      " 12  TechSupport       7043 non-null   object \n",
      " 13  StreamingTV       7043 non-null   object \n",
      " 14  StreamingMovies   7043 non-null   object \n",
      " 15  Contract          7043 non-null   object \n",
      " 16  PaperlessBilling  7043 non-null   object \n",
      " 17  PaymentMethod     7043 non-null   object \n",
      " 18  MonthlyCharges    7043 non-null   float64\n",
      " 19  TotalCharges      7043 non-null   object \n",
      " 20  Churn             7043 non-null   object \n",
      "dtypes: float64(1), int64(2), object(18)\n",
      "memory usage: 1.1+ MB\n"
     ]
    }
   ],
   "source": [
    "df.info()"
   ]
  },
  {
   "cell_type": "markdown",
   "id": "c354b85e",
   "metadata": {
    "papermill": {
     "duration": 0.014947,
     "end_time": "2022-07-22T17:51:29.099169",
     "exception": false,
     "start_time": "2022-07-22T17:51:29.084222",
     "status": "completed"
    },
    "tags": []
   },
   "source": [
    "As shown above, the data set contains 7043 observations and 21 columns. Apparently, there are no null values on the data set; however, we observe that the column TotalCharges was wrongly detected as an object. This column represents the total amount charged to the customer and it is, therefore, a numeric variable. For further analysis, we need to transform this column into a numeric data type."
   ]
  },
  {
   "cell_type": "code",
   "execution_count": 8,
   "id": "e894b6c6",
   "metadata": {
    "execution": {
     "iopub.execute_input": "2022-07-22T17:51:29.133964Z",
     "iopub.status.busy": "2022-07-22T17:51:29.132555Z",
     "iopub.status.idle": "2022-07-22T17:51:29.146085Z",
     "shell.execute_reply": "2022-07-22T17:51:29.145012Z"
    },
    "papermill": {
     "duration": 0.033844,
     "end_time": "2022-07-22T17:51:29.148993",
     "exception": false,
     "start_time": "2022-07-22T17:51:29.115149",
     "status": "completed"
    },
    "tags": []
   },
   "outputs": [],
   "source": [
    "# transform the column TotalCharges into a numeric data type\n",
    "df['TotalCharges'] = pd.to_numeric(df['TotalCharges'], errors='coerce')"
   ]
  },
  {
   "cell_type": "markdown",
   "id": "2890b6eb",
   "metadata": {
    "papermill": {
     "duration": 0.015685,
     "end_time": "2022-07-22T17:51:29.180487",
     "exception": false,
     "start_time": "2022-07-22T17:51:29.164802",
     "status": "completed"
    },
    "tags": []
   },
   "source": [
    "We can now observe that the column TotalCharges has 11 missing values."
   ]
  },
  {
   "cell_type": "code",
   "execution_count": 9,
   "id": "d31aa6a9",
   "metadata": {
    "execution": {
     "iopub.execute_input": "2022-07-22T17:51:29.212446Z",
     "iopub.status.busy": "2022-07-22T17:51:29.212018Z",
     "iopub.status.idle": "2022-07-22T17:51:29.246532Z",
     "shell.execute_reply": "2022-07-22T17:51:29.245368Z"
    },
    "papermill": {
     "duration": 0.053427,
     "end_time": "2022-07-22T17:51:29.248980",
     "exception": false,
     "start_time": "2022-07-22T17:51:29.195553",
     "status": "completed"
    },
    "tags": []
   },
   "outputs": [
    {
     "data": {
      "text/html": [
       "<div>\n",
       "<style scoped>\n",
       "    .dataframe tbody tr th:only-of-type {\n",
       "        vertical-align: middle;\n",
       "    }\n",
       "\n",
       "    .dataframe tbody tr th {\n",
       "        vertical-align: top;\n",
       "    }\n",
       "\n",
       "    .dataframe thead th {\n",
       "        text-align: right;\n",
       "    }\n",
       "</style>\n",
       "<table border=\"1\" class=\"dataframe\">\n",
       "  <thead>\n",
       "    <tr style=\"text-align: right;\">\n",
       "      <th></th>\n",
       "      <th>customerID</th>\n",
       "      <th>gender</th>\n",
       "      <th>SeniorCitizen</th>\n",
       "      <th>Partner</th>\n",
       "      <th>Dependents</th>\n",
       "      <th>tenure</th>\n",
       "      <th>PhoneService</th>\n",
       "      <th>MultipleLines</th>\n",
       "      <th>InternetService</th>\n",
       "      <th>OnlineSecurity</th>\n",
       "      <th>...</th>\n",
       "      <th>DeviceProtection</th>\n",
       "      <th>TechSupport</th>\n",
       "      <th>StreamingTV</th>\n",
       "      <th>StreamingMovies</th>\n",
       "      <th>Contract</th>\n",
       "      <th>PaperlessBilling</th>\n",
       "      <th>PaymentMethod</th>\n",
       "      <th>MonthlyCharges</th>\n",
       "      <th>TotalCharges</th>\n",
       "      <th>Churn</th>\n",
       "    </tr>\n",
       "  </thead>\n",
       "  <tbody>\n",
       "    <tr>\n",
       "      <th>488</th>\n",
       "      <td>4472-LVYGI</td>\n",
       "      <td>Female</td>\n",
       "      <td>0</td>\n",
       "      <td>Yes</td>\n",
       "      <td>Yes</td>\n",
       "      <td>0</td>\n",
       "      <td>No</td>\n",
       "      <td>No phone service</td>\n",
       "      <td>DSL</td>\n",
       "      <td>Yes</td>\n",
       "      <td>...</td>\n",
       "      <td>Yes</td>\n",
       "      <td>Yes</td>\n",
       "      <td>Yes</td>\n",
       "      <td>No</td>\n",
       "      <td>Two year</td>\n",
       "      <td>Yes</td>\n",
       "      <td>Bank transfer (automatic)</td>\n",
       "      <td>52.55</td>\n",
       "      <td>NaN</td>\n",
       "      <td>No</td>\n",
       "    </tr>\n",
       "    <tr>\n",
       "      <th>753</th>\n",
       "      <td>3115-CZMZD</td>\n",
       "      <td>Male</td>\n",
       "      <td>0</td>\n",
       "      <td>No</td>\n",
       "      <td>Yes</td>\n",
       "      <td>0</td>\n",
       "      <td>Yes</td>\n",
       "      <td>No</td>\n",
       "      <td>No</td>\n",
       "      <td>No internet service</td>\n",
       "      <td>...</td>\n",
       "      <td>No internet service</td>\n",
       "      <td>No internet service</td>\n",
       "      <td>No internet service</td>\n",
       "      <td>No internet service</td>\n",
       "      <td>Two year</td>\n",
       "      <td>No</td>\n",
       "      <td>Mailed check</td>\n",
       "      <td>20.25</td>\n",
       "      <td>NaN</td>\n",
       "      <td>No</td>\n",
       "    </tr>\n",
       "    <tr>\n",
       "      <th>936</th>\n",
       "      <td>5709-LVOEQ</td>\n",
       "      <td>Female</td>\n",
       "      <td>0</td>\n",
       "      <td>Yes</td>\n",
       "      <td>Yes</td>\n",
       "      <td>0</td>\n",
       "      <td>Yes</td>\n",
       "      <td>No</td>\n",
       "      <td>DSL</td>\n",
       "      <td>Yes</td>\n",
       "      <td>...</td>\n",
       "      <td>Yes</td>\n",
       "      <td>No</td>\n",
       "      <td>Yes</td>\n",
       "      <td>Yes</td>\n",
       "      <td>Two year</td>\n",
       "      <td>No</td>\n",
       "      <td>Mailed check</td>\n",
       "      <td>80.85</td>\n",
       "      <td>NaN</td>\n",
       "      <td>No</td>\n",
       "    </tr>\n",
       "    <tr>\n",
       "      <th>1082</th>\n",
       "      <td>4367-NUYAO</td>\n",
       "      <td>Male</td>\n",
       "      <td>0</td>\n",
       "      <td>Yes</td>\n",
       "      <td>Yes</td>\n",
       "      <td>0</td>\n",
       "      <td>Yes</td>\n",
       "      <td>Yes</td>\n",
       "      <td>No</td>\n",
       "      <td>No internet service</td>\n",
       "      <td>...</td>\n",
       "      <td>No internet service</td>\n",
       "      <td>No internet service</td>\n",
       "      <td>No internet service</td>\n",
       "      <td>No internet service</td>\n",
       "      <td>Two year</td>\n",
       "      <td>No</td>\n",
       "      <td>Mailed check</td>\n",
       "      <td>25.75</td>\n",
       "      <td>NaN</td>\n",
       "      <td>No</td>\n",
       "    </tr>\n",
       "    <tr>\n",
       "      <th>1340</th>\n",
       "      <td>1371-DWPAZ</td>\n",
       "      <td>Female</td>\n",
       "      <td>0</td>\n",
       "      <td>Yes</td>\n",
       "      <td>Yes</td>\n",
       "      <td>0</td>\n",
       "      <td>No</td>\n",
       "      <td>No phone service</td>\n",
       "      <td>DSL</td>\n",
       "      <td>Yes</td>\n",
       "      <td>...</td>\n",
       "      <td>Yes</td>\n",
       "      <td>Yes</td>\n",
       "      <td>Yes</td>\n",
       "      <td>No</td>\n",
       "      <td>Two year</td>\n",
       "      <td>No</td>\n",
       "      <td>Credit card (automatic)</td>\n",
       "      <td>56.05</td>\n",
       "      <td>NaN</td>\n",
       "      <td>No</td>\n",
       "    </tr>\n",
       "    <tr>\n",
       "      <th>3331</th>\n",
       "      <td>7644-OMVMY</td>\n",
       "      <td>Male</td>\n",
       "      <td>0</td>\n",
       "      <td>Yes</td>\n",
       "      <td>Yes</td>\n",
       "      <td>0</td>\n",
       "      <td>Yes</td>\n",
       "      <td>No</td>\n",
       "      <td>No</td>\n",
       "      <td>No internet service</td>\n",
       "      <td>...</td>\n",
       "      <td>No internet service</td>\n",
       "      <td>No internet service</td>\n",
       "      <td>No internet service</td>\n",
       "      <td>No internet service</td>\n",
       "      <td>Two year</td>\n",
       "      <td>No</td>\n",
       "      <td>Mailed check</td>\n",
       "      <td>19.85</td>\n",
       "      <td>NaN</td>\n",
       "      <td>No</td>\n",
       "    </tr>\n",
       "    <tr>\n",
       "      <th>3826</th>\n",
       "      <td>3213-VVOLG</td>\n",
       "      <td>Male</td>\n",
       "      <td>0</td>\n",
       "      <td>Yes</td>\n",
       "      <td>Yes</td>\n",
       "      <td>0</td>\n",
       "      <td>Yes</td>\n",
       "      <td>Yes</td>\n",
       "      <td>No</td>\n",
       "      <td>No internet service</td>\n",
       "      <td>...</td>\n",
       "      <td>No internet service</td>\n",
       "      <td>No internet service</td>\n",
       "      <td>No internet service</td>\n",
       "      <td>No internet service</td>\n",
       "      <td>Two year</td>\n",
       "      <td>No</td>\n",
       "      <td>Mailed check</td>\n",
       "      <td>25.35</td>\n",
       "      <td>NaN</td>\n",
       "      <td>No</td>\n",
       "    </tr>\n",
       "    <tr>\n",
       "      <th>4380</th>\n",
       "      <td>2520-SGTTA</td>\n",
       "      <td>Female</td>\n",
       "      <td>0</td>\n",
       "      <td>Yes</td>\n",
       "      <td>Yes</td>\n",
       "      <td>0</td>\n",
       "      <td>Yes</td>\n",
       "      <td>No</td>\n",
       "      <td>No</td>\n",
       "      <td>No internet service</td>\n",
       "      <td>...</td>\n",
       "      <td>No internet service</td>\n",
       "      <td>No internet service</td>\n",
       "      <td>No internet service</td>\n",
       "      <td>No internet service</td>\n",
       "      <td>Two year</td>\n",
       "      <td>No</td>\n",
       "      <td>Mailed check</td>\n",
       "      <td>20.00</td>\n",
       "      <td>NaN</td>\n",
       "      <td>No</td>\n",
       "    </tr>\n",
       "    <tr>\n",
       "      <th>5218</th>\n",
       "      <td>2923-ARZLG</td>\n",
       "      <td>Male</td>\n",
       "      <td>0</td>\n",
       "      <td>Yes</td>\n",
       "      <td>Yes</td>\n",
       "      <td>0</td>\n",
       "      <td>Yes</td>\n",
       "      <td>No</td>\n",
       "      <td>No</td>\n",
       "      <td>No internet service</td>\n",
       "      <td>...</td>\n",
       "      <td>No internet service</td>\n",
       "      <td>No internet service</td>\n",
       "      <td>No internet service</td>\n",
       "      <td>No internet service</td>\n",
       "      <td>One year</td>\n",
       "      <td>Yes</td>\n",
       "      <td>Mailed check</td>\n",
       "      <td>19.70</td>\n",
       "      <td>NaN</td>\n",
       "      <td>No</td>\n",
       "    </tr>\n",
       "    <tr>\n",
       "      <th>6670</th>\n",
       "      <td>4075-WKNIU</td>\n",
       "      <td>Female</td>\n",
       "      <td>0</td>\n",
       "      <td>Yes</td>\n",
       "      <td>Yes</td>\n",
       "      <td>0</td>\n",
       "      <td>Yes</td>\n",
       "      <td>Yes</td>\n",
       "      <td>DSL</td>\n",
       "      <td>No</td>\n",
       "      <td>...</td>\n",
       "      <td>Yes</td>\n",
       "      <td>Yes</td>\n",
       "      <td>Yes</td>\n",
       "      <td>No</td>\n",
       "      <td>Two year</td>\n",
       "      <td>No</td>\n",
       "      <td>Mailed check</td>\n",
       "      <td>73.35</td>\n",
       "      <td>NaN</td>\n",
       "      <td>No</td>\n",
       "    </tr>\n",
       "    <tr>\n",
       "      <th>6754</th>\n",
       "      <td>2775-SEFEE</td>\n",
       "      <td>Male</td>\n",
       "      <td>0</td>\n",
       "      <td>No</td>\n",
       "      <td>Yes</td>\n",
       "      <td>0</td>\n",
       "      <td>Yes</td>\n",
       "      <td>Yes</td>\n",
       "      <td>DSL</td>\n",
       "      <td>Yes</td>\n",
       "      <td>...</td>\n",
       "      <td>No</td>\n",
       "      <td>Yes</td>\n",
       "      <td>No</td>\n",
       "      <td>No</td>\n",
       "      <td>Two year</td>\n",
       "      <td>Yes</td>\n",
       "      <td>Bank transfer (automatic)</td>\n",
       "      <td>61.90</td>\n",
       "      <td>NaN</td>\n",
       "      <td>No</td>\n",
       "    </tr>\n",
       "  </tbody>\n",
       "</table>\n",
       "<p>11 rows × 21 columns</p>\n",
       "</div>"
      ],
      "text/plain": [
       "      customerID  gender  SeniorCitizen Partner Dependents  tenure  \\\n",
       "488   4472-LVYGI  Female              0     Yes        Yes       0   \n",
       "753   3115-CZMZD    Male              0      No        Yes       0   \n",
       "936   5709-LVOEQ  Female              0     Yes        Yes       0   \n",
       "1082  4367-NUYAO    Male              0     Yes        Yes       0   \n",
       "1340  1371-DWPAZ  Female              0     Yes        Yes       0   \n",
       "3331  7644-OMVMY    Male              0     Yes        Yes       0   \n",
       "3826  3213-VVOLG    Male              0     Yes        Yes       0   \n",
       "4380  2520-SGTTA  Female              0     Yes        Yes       0   \n",
       "5218  2923-ARZLG    Male              0     Yes        Yes       0   \n",
       "6670  4075-WKNIU  Female              0     Yes        Yes       0   \n",
       "6754  2775-SEFEE    Male              0      No        Yes       0   \n",
       "\n",
       "     PhoneService     MultipleLines InternetService       OnlineSecurity  ...  \\\n",
       "488            No  No phone service             DSL                  Yes  ...   \n",
       "753           Yes                No              No  No internet service  ...   \n",
       "936           Yes                No             DSL                  Yes  ...   \n",
       "1082          Yes               Yes              No  No internet service  ...   \n",
       "1340           No  No phone service             DSL                  Yes  ...   \n",
       "3331          Yes                No              No  No internet service  ...   \n",
       "3826          Yes               Yes              No  No internet service  ...   \n",
       "4380          Yes                No              No  No internet service  ...   \n",
       "5218          Yes                No              No  No internet service  ...   \n",
       "6670          Yes               Yes             DSL                   No  ...   \n",
       "6754          Yes               Yes             DSL                  Yes  ...   \n",
       "\n",
       "         DeviceProtection          TechSupport          StreamingTV  \\\n",
       "488                   Yes                  Yes                  Yes   \n",
       "753   No internet service  No internet service  No internet service   \n",
       "936                   Yes                   No                  Yes   \n",
       "1082  No internet service  No internet service  No internet service   \n",
       "1340                  Yes                  Yes                  Yes   \n",
       "3331  No internet service  No internet service  No internet service   \n",
       "3826  No internet service  No internet service  No internet service   \n",
       "4380  No internet service  No internet service  No internet service   \n",
       "5218  No internet service  No internet service  No internet service   \n",
       "6670                  Yes                  Yes                  Yes   \n",
       "6754                   No                  Yes                   No   \n",
       "\n",
       "          StreamingMovies  Contract PaperlessBilling  \\\n",
       "488                    No  Two year              Yes   \n",
       "753   No internet service  Two year               No   \n",
       "936                   Yes  Two year               No   \n",
       "1082  No internet service  Two year               No   \n",
       "1340                   No  Two year               No   \n",
       "3331  No internet service  Two year               No   \n",
       "3826  No internet service  Two year               No   \n",
       "4380  No internet service  Two year               No   \n",
       "5218  No internet service  One year              Yes   \n",
       "6670                   No  Two year               No   \n",
       "6754                   No  Two year              Yes   \n",
       "\n",
       "                  PaymentMethod MonthlyCharges  TotalCharges  Churn  \n",
       "488   Bank transfer (automatic)          52.55           NaN     No  \n",
       "753                Mailed check          20.25           NaN     No  \n",
       "936                Mailed check          80.85           NaN     No  \n",
       "1082               Mailed check          25.75           NaN     No  \n",
       "1340    Credit card (automatic)          56.05           NaN     No  \n",
       "3331               Mailed check          19.85           NaN     No  \n",
       "3826               Mailed check          25.35           NaN     No  \n",
       "4380               Mailed check          20.00           NaN     No  \n",
       "5218               Mailed check          19.70           NaN     No  \n",
       "6670               Mailed check          73.35           NaN     No  \n",
       "6754  Bank transfer (automatic)          61.90           NaN     No  \n",
       "\n",
       "[11 rows x 21 columns]"
      ]
     },
     "execution_count": 9,
     "metadata": {},
     "output_type": "execute_result"
    }
   ],
   "source": [
    "# null observations of the TotalCharges column\n",
    "df[df['TotalCharges'].isnull()]"
   ]
  },
  {
   "cell_type": "markdown",
   "id": "19836ba8",
   "metadata": {
    "papermill": {
     "duration": 0.014943,
     "end_time": "2022-07-22T17:51:29.279343",
     "exception": false,
     "start_time": "2022-07-22T17:51:29.264400",
     "status": "completed"
    },
    "tags": []
   },
   "source": [
    "These observations have also a tenure of 0, even though MontlyCharges is not null for these entries. This information appeared to be contradictory, and therefore, we decide to remove those observations from the data set."
   ]
  },
  {
   "cell_type": "code",
   "execution_count": 10,
   "id": "7131f5bf",
   "metadata": {
    "execution": {
     "iopub.execute_input": "2022-07-22T17:51:29.312262Z",
     "iopub.status.busy": "2022-07-22T17:51:29.311561Z",
     "iopub.status.idle": "2022-07-22T17:51:29.334907Z",
     "shell.execute_reply": "2022-07-22T17:51:29.334014Z"
    },
    "papermill": {
     "duration": 0.043015,
     "end_time": "2022-07-22T17:51:29.337778",
     "exception": false,
     "start_time": "2022-07-22T17:51:29.294763",
     "status": "completed"
    },
    "tags": []
   },
   "outputs": [],
   "source": [
    "# drop observations with null values\n",
    "df.dropna(inplace=True)"
   ]
  },
  {
   "cell_type": "markdown",
   "id": "b0b2fa3b",
   "metadata": {
    "papermill": {
     "duration": 0.015218,
     "end_time": "2022-07-22T17:51:29.368464",
     "exception": false,
     "start_time": "2022-07-22T17:51:29.353246",
     "status": "completed"
    },
    "tags": []
   },
   "source": [
    "The customerID column is useless to explain whether not the customer will churn. Therefore, we drop this column from the data set."
   ]
  },
  {
   "cell_type": "code",
   "execution_count": 11,
   "id": "f01c8c3d",
   "metadata": {
    "execution": {
     "iopub.execute_input": "2022-07-22T17:51:29.404782Z",
     "iopub.status.busy": "2022-07-22T17:51:29.404377Z",
     "iopub.status.idle": "2022-07-22T17:51:29.411702Z",
     "shell.execute_reply": "2022-07-22T17:51:29.410498Z"
    },
    "papermill": {
     "duration": 0.028088,
     "end_time": "2022-07-22T17:51:29.414247",
     "exception": false,
     "start_time": "2022-07-22T17:51:29.386159",
     "status": "completed"
    },
    "tags": []
   },
   "outputs": [],
   "source": [
    "# drop the customerID column from the dataset\n",
    "df.drop(columns='customerID', inplace=True)"
   ]
  },
  {
   "cell_type": "code",
   "execution_count": 12,
   "id": "0b0ebad1",
   "metadata": {
    "execution": {
     "iopub.execute_input": "2022-07-22T17:51:29.448885Z",
     "iopub.status.busy": "2022-07-22T17:51:29.448059Z",
     "iopub.status.idle": "2022-07-22T17:51:29.457426Z",
     "shell.execute_reply": "2022-07-22T17:51:29.456663Z"
    },
    "papermill": {
     "duration": 0.029257,
     "end_time": "2022-07-22T17:51:29.460186",
     "exception": false,
     "start_time": "2022-07-22T17:51:29.430929",
     "status": "completed"
    },
    "tags": []
   },
   "outputs": [
    {
     "data": {
      "text/plain": [
       "array(['Electronic check', 'Mailed check', 'Bank transfer (automatic)',\n",
       "       'Credit card (automatic)'], dtype=object)"
      ]
     },
     "execution_count": 12,
     "metadata": {},
     "output_type": "execute_result"
    }
   ],
   "source": [
    "# unique elements of the PaymentMethod column\n",
    "df[\"PaymentMethod\"].unique()"
   ]
  },
  {
   "cell_type": "markdown",
   "id": "91f81888",
   "metadata": {
    "papermill": {
     "duration": 0.017569,
     "end_time": "2022-07-22T17:51:29.494374",
     "exception": false,
     "start_time": "2022-07-22T17:51:29.476805",
     "status": "completed"
    },
    "tags": []
   },
   "source": [
    "As shown below, some payment method denominations contain in parenthesis the word automatic. These denominations are too long to be used as tick labels in further visualizations. Therefore, we remove this clarification in parenthesis from the entries of the PaymentMethod column."
   ]
  },
  {
   "cell_type": "code",
   "execution_count": 13,
   "id": "122aa0a6",
   "metadata": {
    "execution": {
     "iopub.execute_input": "2022-07-22T17:51:29.533233Z",
     "iopub.status.busy": "2022-07-22T17:51:29.531896Z",
     "iopub.status.idle": "2022-07-22T17:51:29.542982Z",
     "shell.execute_reply": "2022-07-22T17:51:29.542045Z"
    },
    "papermill": {
     "duration": 0.032336,
     "end_time": "2022-07-22T17:51:29.545635",
     "exception": false,
     "start_time": "2022-07-22T17:51:29.513299",
     "status": "completed"
    },
    "tags": []
   },
   "outputs": [],
   "source": [
    "# remove (automatic) from payment method names\n",
    "df['PaymentMethod'] = df['PaymentMethod'].str.replace(' (automatic)', '', regex=False)"
   ]
  },
  {
   "cell_type": "code",
   "execution_count": 14,
   "id": "4adf01c9",
   "metadata": {
    "execution": {
     "iopub.execute_input": "2022-07-22T17:51:29.583161Z",
     "iopub.status.busy": "2022-07-22T17:51:29.582299Z",
     "iopub.status.idle": "2022-07-22T17:51:29.589766Z",
     "shell.execute_reply": "2022-07-22T17:51:29.588652Z"
    },
    "papermill": {
     "duration": 0.028239,
     "end_time": "2022-07-22T17:51:29.592425",
     "exception": false,
     "start_time": "2022-07-22T17:51:29.564186",
     "status": "completed"
    },
    "tags": []
   },
   "outputs": [
    {
     "data": {
      "text/plain": [
       "array(['Electronic check', 'Mailed check', 'Bank transfer', 'Credit card'],\n",
       "      dtype=object)"
      ]
     },
     "execution_count": 14,
     "metadata": {},
     "output_type": "execute_result"
    }
   ],
   "source": [
    "# unique elements of the PaymentMethod column after the modification \n",
    "df[\"PaymentMethod\"].unique()"
   ]
  },
  {
   "cell_type": "markdown",
   "id": "3b14b012",
   "metadata": {
    "papermill": {
     "duration": 0.017569,
     "end_time": "2022-07-22T17:51:29.626545",
     "exception": false,
     "start_time": "2022-07-22T17:51:29.608976",
     "status": "completed"
    },
    "tags": []
   },
   "source": [
    "# 3. Data Visualization"
   ]
  },
  {
   "cell_type": "code",
   "execution_count": 15,
   "id": "d45a0ab0",
   "metadata": {
    "execution": {
     "iopub.execute_input": "2022-07-22T17:51:29.661683Z",
     "iopub.status.busy": "2022-07-22T17:51:29.661030Z",
     "iopub.status.idle": "2022-07-22T17:51:29.957716Z",
     "shell.execute_reply": "2022-07-22T17:51:29.956347Z"
    },
    "papermill": {
     "duration": 0.317619,
     "end_time": "2022-07-22T17:51:29.960775",
     "exception": false,
     "start_time": "2022-07-22T17:51:29.643156",
     "status": "completed"
    },
    "tags": []
   },
   "outputs": [
    {
     "data": {
      "image/png": "[encoded data removed]",
      "text/plain": [
       "<Figure size 720x432 with 1 Axes>"
      ]
     },
     "metadata": {},
     "output_type": "display_data"
    }
   ],
   "source": [
    "# create a figure\n",
    "fig = plt.figure(figsize=(10, 6)) \n",
    "ax = fig.add_subplot(111)\n",
    "\n",
    "# proportion of observation of each class\n",
    "prop_response = df['Churn'].value_counts(normalize=True)\n",
    "\n",
    "# create a bar plot showing the percentage of churn\n",
    "prop_response.plot(kind='bar', \n",
    "                   ax=ax,\n",
    "                   color=['navy','salmon'])\n",
    "\n",
    "# set title and labels\n",
    "ax.set_title('Proportion of observations of the response variable',\n",
    "             fontsize=18, loc='left')\n",
    "ax.set_xlabel('churn',\n",
    "              fontsize=14)\n",
    "ax.set_ylabel('proportion of observations',\n",
    "              fontsize=14)\n",
    "ax.tick_params(rotation='auto')\n",
    "\n",
    "# eliminate the frame from the plot\n",
    "spine_names = ('top', 'right', 'bottom', 'left')\n",
    "for spine_name in spine_names:\n",
    "    ax.spines[spine_name].set_visible(False)"
   ]
  },
  {
   "cell_type": "markdown",
   "id": "edc1238e",
   "metadata": {
    "papermill": {
     "duration": 0.017107,
     "end_time": "2022-07-22T17:51:29.995333",
     "exception": false,
     "start_time": "2022-07-22T17:51:29.978226",
     "status": "completed"
    },
    "tags": []
   },
   "source": [
    "The following bar plot shows the percentage of observations that correspond to each class of the response variable: no and yes. As shown below, this is an imbalanced data set because both classes are not equally distributed among all observations, being no the majority class (73.42%)."
   ]
  },
  {
   "cell_type": "markdown",
   "id": "e5004753",
   "metadata": {
    "papermill": {
     "duration": 0.016177,
     "end_time": "2022-07-22T17:51:30.029017",
     "exception": false,
     "start_time": "2022-07-22T17:51:30.012840",
     "status": "completed"
    },
    "tags": []
   },
   "source": [
    "The following code creates a stacked percentage bar chart for each demographic attribute (gender, SeniorCitizen, Partner, Dependents), showing the percentage of Churn for each category of the attribute."
   ]
  },
  {
   "cell_type": "code",
   "execution_count": 16,
   "id": "6f3dca25",
   "metadata": {
    "execution": {
     "iopub.execute_input": "2022-07-22T17:51:30.064218Z",
     "iopub.status.busy": "2022-07-22T17:51:30.063792Z",
     "iopub.status.idle": "2022-07-22T17:51:30.076998Z",
     "shell.execute_reply": "2022-07-22T17:51:30.076016Z"
    },
    "papermill": {
     "duration": 0.033673,
     "end_time": "2022-07-22T17:51:30.079610",
     "exception": false,
     "start_time": "2022-07-22T17:51:30.045937",
     "status": "completed"
    },
    "tags": []
   },
   "outputs": [],
   "source": [
    "\n",
    "def percentage_stacked_plot(columns_to_plot, super_title):\n",
    "    \n",
    "    '''\n",
    "    Prints a 100% stacked plot of the response variable for independent variable of the list columns_to_plot.\n",
    "            Parameters:\n",
    "                    columns_to_plot (list of string): Names of the variables to plot\n",
    "                    super_title (string): Super title of the visualization\n",
    "            Returns:\n",
    "                    None\n",
    "    '''\n",
    "    \n",
    "    number_of_columns = 2\n",
    "    number_of_rows = math.ceil(len(columns_to_plot)/2)\n",
    "\n",
    "    # create a figure\n",
    "    fig = plt.figure(figsize=(12, 5 * number_of_rows)) \n",
    "    fig.suptitle(super_title, fontsize=22,  y=.95)\n",
    " \n",
    "\n",
    "    # loop to each column name to create a subplot\n",
    "    for index, column in enumerate(columns_to_plot, 1):\n",
    "\n",
    "        # create the subplot\n",
    "        ax = fig.add_subplot(number_of_rows, number_of_columns, index)\n",
    "\n",
    "        # calculate the percentage of observations of the response variable for each group of the independent variable\n",
    "        # 100% stacked bar plot\n",
    "        prop_by_independent = pd.crosstab(df[column], df['Churn']).apply(lambda x: x/x.sum()*100, axis=1)\n",
    "\n",
    "        prop_by_independent.plot(kind='bar', ax=ax, stacked=True,\n",
    "                                 rot=0, color=['navy','salmon'])\n",
    "\n",
    "        # set the legend in the upper right corner\n",
    "        ax.legend(loc=\"upper right\", bbox_to_anchor=(0.62, 0.5, 0.5, 0.5),\n",
    "                  title='Churn', fancybox=True)\n",
    "\n",
    "        # set title and labels\n",
    "        ax.set_title('Proportion of observations by ' + column,\n",
    "                     fontsize=16, loc='left')\n",
    "\n",
    "        ax.tick_params(rotation='auto')\n",
    "\n",
    "        # eliminate the frame from the plot\n",
    "        spine_names = ('top', 'right', 'bottom', 'left')\n",
    "        for spine_name in spine_names:\n",
    "            ax.spines[spine_name].set_visible(False)"
   ]
  },
  {
   "cell_type": "code",
   "execution_count": 17,
   "id": "6354f1dc",
   "metadata": {
    "execution": {
     "iopub.execute_input": "2022-07-22T17:51:30.116969Z",
     "iopub.status.busy": "2022-07-22T17:51:30.116513Z",
     "iopub.status.idle": "2022-07-22T17:51:30.891489Z",
     "shell.execute_reply": "2022-07-22T17:51:30.889266Z"
    },
    "papermill": {
     "duration": 0.798045,
     "end_time": "2022-07-22T17:51:30.895211",
     "exception": false,
     "start_time": "2022-07-22T17:51:30.097166",
     "status": "completed"
    },
    "tags": []
   },
   "outputs": [
    {
     "data": {
      "image/png": "[encoded data removed]",
      "text/plain": [
       "<Figure size 864x720 with 4 Axes>"
      ]
     },
     "metadata": {},
     "output_type": "display_data"
    }
   ],
   "source": [
    "# demographic column names\n",
    "demographic_columns = ['gender', 'SeniorCitizen', 'Partner', 'Dependents']\n",
    "\n",
    "# stacked plot of demographic columns\n",
    "percentage_stacked_plot(demographic_columns, 'Demographic Information')"
   ]
  },
  {
   "cell_type": "markdown",
   "id": "618c2b59",
   "metadata": {
    "papermill": {
     "duration": 0.017566,
     "end_time": "2022-07-22T17:51:30.932762",
     "exception": false,
     "start_time": "2022-07-22T17:51:30.915196",
     "status": "completed"
    },
    "tags": []
   },
   "source": [
    "We can extract the following conclusions by analyzing demographic attributes:\n",
    "\n",
    "* The churn rate of senior citizens is almost double that of young citizens.\n",
    "* We do not expect gender to have significant predictive power. A similar percentage of churn is shown both when a customer is a man or a woman.\n",
    "* Customers with a partner churn less than customers with no partner."
   ]
  },
  {
   "cell_type": "markdown",
   "id": "b7ac444e",
   "metadata": {
    "papermill": {
     "duration": 0.01965,
     "end_time": "2022-07-22T17:51:30.973026",
     "exception": false,
     "start_time": "2022-07-22T17:51:30.953376",
     "status": "completed"
    },
    "tags": []
   },
   "source": [
    "As we did with demographic attributes, we evaluate the percentage of Churn for each category of the customer account attributes (Contract, PaperlessBilling, PaymentMethod)."
   ]
  },
  {
   "cell_type": "code",
   "execution_count": 18,
   "id": "fecc2ce3",
   "metadata": {
    "execution": {
     "iopub.execute_input": "2022-07-22T17:51:31.014996Z",
     "iopub.status.busy": "2022-07-22T17:51:31.013967Z",
     "iopub.status.idle": "2022-07-22T17:51:31.612803Z",
     "shell.execute_reply": "2022-07-22T17:51:31.611025Z"
    },
    "papermill": {
     "duration": 0.623191,
     "end_time": "2022-07-22T17:51:31.615909",
     "exception": false,
     "start_time": "2022-07-22T17:51:30.992718",
     "status": "completed"
    },
    "tags": []
   },
   "outputs": [
    {
     "data": {
      "image/png": "[encoded data removed]",
      "text/plain": [
       "<Figure size 864x720 with 3 Axes>"
      ]
     },
     "metadata": {},
     "output_type": "display_data"
    }
   ],
   "source": [
    "# customer account column names\n",
    "account_columns = ['Contract', 'PaperlessBilling', 'PaymentMethod']\n",
    "\n",
    "# stacked plot of customer account columns\n",
    "percentage_stacked_plot(account_columns, 'Customer Account Information')"
   ]
  },
  {
   "cell_type": "markdown",
   "id": "ced136b1",
   "metadata": {
    "papermill": {
     "duration": 0.028549,
     "end_time": "2022-07-22T17:51:31.663017",
     "exception": false,
     "start_time": "2022-07-22T17:51:31.634468",
     "status": "completed"
    },
    "tags": []
   },
   "source": [
    "We can extract the following conclusions by analyzing customer account attributes:\n",
    "\n",
    "* Customers with month-to-month contracts have higher churn rates compared to clients with yearly contracts.\n",
    "* Customers who opted for an electronic check as paying method are more likely to leave the company.\n",
    "* Customers subscribed to paperless billing churn more than those who are not subscribed."
   ]
  },
  {
   "cell_type": "markdown",
   "id": "7261ed85",
   "metadata": {
    "papermill": {
     "duration": 0.017773,
     "end_time": "2022-07-22T17:51:31.700326",
     "exception": false,
     "start_time": "2022-07-22T17:51:31.682553",
     "status": "completed"
    },
    "tags": []
   },
   "source": [
    "The following plots show the distribution of tenure, MontlyCharges, TotalCharges by Churn. For all numeric attributes, the distributions of both classes (No and Yes) are different which suggests that all of the attributes will be useful to determine whether or not a customer churns."
   ]
  },
  {
   "cell_type": "code",
   "execution_count": 19,
   "id": "b00aa6bb",
   "metadata": {
    "execution": {
     "iopub.execute_input": "2022-07-22T17:51:31.745067Z",
     "iopub.status.busy": "2022-07-22T17:51:31.744303Z",
     "iopub.status.idle": "2022-07-22T17:51:32.664911Z",
     "shell.execute_reply": "2022-07-22T17:51:32.663154Z"
    },
    "papermill": {
     "duration": 0.94687,
     "end_time": "2022-07-22T17:51:32.668273",
     "exception": false,
     "start_time": "2022-07-22T17:51:31.721403",
     "status": "completed"
    },
    "tags": []
   },
   "outputs": [
    {
     "data": {
      "image/png": "[encoded data removed]",
      "text/plain": [
       "<Figure size 864x720 with 3 Axes>"
      ]
     },
     "metadata": {},
     "output_type": "display_data"
    }
   ],
   "source": [
    "def histogram_plots(columns_to_plot, super_title):\n",
    "    \n",
    "     '''\n",
    "     Prints a histogram for each independent variable of the list columns_to_plot.\n",
    "            Parameters:\n",
    "                    columns_to_plot (list of string): Names of the variables to plot\n",
    "                    super_title (string): Super title of the visualization\n",
    "            Returns:\n",
    "                    None\n",
    "     '''\n",
    "     # set number of rows and number of columns\n",
    "     number_of_columns = 2\n",
    "     number_of_rows = math.ceil(len(columns_to_plot)/2)\n",
    "\n",
    "     # create a figure\n",
    "     fig = plt.figure(figsize=(12, 5 * number_of_rows)) \n",
    "     fig.suptitle(super_title, fontsize=22,  y=.95)\n",
    " \n",
    "\n",
    "     # loop to each demographic column name to create a subplot\n",
    "     for index, column in enumerate(columns_to_plot, 1):\n",
    "\n",
    "         # create the subplot\n",
    "         ax = fig.add_subplot(number_of_rows, number_of_columns, index)\n",
    "\n",
    "         # histograms for each class (normalized histogram)\n",
    "         df[df['Churn']=='No'][column].plot(kind='hist', ax=ax, density=True, \n",
    "                                                       alpha=0.5, color='navy', label='No')\n",
    "         df[df['Churn']=='Yes'][column].plot(kind='hist', ax=ax, density=True,\n",
    "                                                        alpha=0.5, color='salmon', label='Yes')\n",
    "        \n",
    "         # set the legend in the upper right corner\n",
    "         ax.legend(loc=\"upper right\", bbox_to_anchor=(0.5, 0.5, 0.5, 0.5),\n",
    "                  title='Churn', fancybox=True)\n",
    "\n",
    "         # set title and labels\n",
    "         ax.set_title('Distribution of ' + column + ' by churn',\n",
    "                     fontsize=16, loc='left')\n",
    " \n",
    "         ax.tick_params(rotation='auto')\n",
    " \n",
    "         # eliminate the frame from the plot\n",
    "         spine_names = ('top', 'right', 'bottom', 'left')\n",
    "         for spine_name in spine_names:\n",
    "             ax.spines[spine_name].set_visible(False)\n",
    "            \n",
    "# customer account column names\n",
    "account_columns_numeric = ['tenure', 'MonthlyCharges', 'TotalCharges']\n",
    "# histogram of costumer account columns \n",
    "histogram_plots(account_columns_numeric, 'Customer Account Information')"
   ]
  },
  {
   "cell_type": "markdown",
   "id": "b843dd80",
   "metadata": {
    "papermill": {
     "duration": 0.02064,
     "end_time": "2022-07-22T17:51:32.714028",
     "exception": false,
     "start_time": "2022-07-22T17:51:32.693388",
     "status": "completed"
    },
    "tags": []
   },
   "source": [
    "We can extract the following conclusions by analyzing the histograms above:\n",
    "\n",
    "* The churn rate tends to be larger when monthly charges are high.\n",
    "* New customers (low tenure) are more likely to churn.\n",
    "* Clients with high total charges are less likely to leave the company."
   ]
  },
  {
   "cell_type": "markdown",
   "id": "b34ab80d",
   "metadata": {
    "papermill": {
     "duration": 0.024558,
     "end_time": "2022-07-22T17:51:32.760811",
     "exception": false,
     "start_time": "2022-07-22T17:51:32.736253",
     "status": "completed"
    },
    "tags": []
   },
   "source": [
    "Lastly, we evaluate the percentage of the target for each category of the services columns with stacked bar plots."
   ]
  },
  {
   "cell_type": "code",
   "execution_count": 20,
   "id": "a8da1d38",
   "metadata": {
    "execution": {
     "iopub.execute_input": "2022-07-22T17:51:32.813341Z",
     "iopub.status.busy": "2022-07-22T17:51:32.812457Z",
     "iopub.status.idle": "2022-07-22T17:51:34.566842Z",
     "shell.execute_reply": "2022-07-22T17:51:34.565387Z"
    },
    "papermill": {
     "duration": 1.782672,
     "end_time": "2022-07-22T17:51:34.570809",
     "exception": false,
     "start_time": "2022-07-22T17:51:32.788137",
     "status": "completed"
    },
    "tags": []
   },
   "outputs": [
    {
     "data": {
      "image/png": "[encoded data removed]",
      "text/plain": [
       "<Figure size 864x1800 with 9 Axes>"
      ]
     },
     "metadata": {},
     "output_type": "display_data"
    }
   ],
   "source": [
    "# services column names\n",
    "services_columns = ['PhoneService', 'MultipleLines', 'InternetService', 'OnlineSecurity',\n",
    "                   'OnlineBackup', 'DeviceProtection', 'TechSupport', 'StreamingTV', 'StreamingMovies']\n",
    "\n",
    "# stacked plot of services columns\n",
    "percentage_stacked_plot(services_columns, 'Services Information')"
   ]
  },
  {
   "cell_type": "markdown",
   "id": "4ee45078",
   "metadata": {
    "papermill": {
     "duration": 0.022236,
     "end_time": "2022-07-22T17:51:34.616245",
     "exception": false,
     "start_time": "2022-07-22T17:51:34.594009",
     "status": "completed"
    },
    "tags": []
   },
   "source": [
    "We can extract the following conclusions by evaluating services attributes:\n",
    "\n",
    "* We do not expect phone attributes (PhoneService and MultipleLines) to have significant predictive power. The percentage of churn for all classes in both independent variables is nearly the same.\n",
    "* Clients with online security churn less than those without it.\n",
    "* Customers with no tech support tend to churn more often than those with tech support."
   ]
  },
  {
   "cell_type": "markdown",
   "id": "af53978c",
   "metadata": {
    "papermill": {
     "duration": 0.021826,
     "end_time": "2022-07-22T17:51:34.659504",
     "exception": false,
     "start_time": "2022-07-22T17:51:34.637678",
     "status": "completed"
    },
    "tags": []
   },
   "source": [
    "# 4. Feature importance"
   ]
  },
  {
   "cell_type": "markdown",
   "id": "d124231b",
   "metadata": {
    "papermill": {
     "duration": 0.022126,
     "end_time": "2022-07-22T17:51:34.702616",
     "exception": false,
     "start_time": "2022-07-22T17:51:34.680490",
     "status": "completed"
    },
    "tags": []
   },
   "source": [
    "#### Mutual information — analysis of linear and nonlinear relationships\n",
    "\n",
    "Mutual information measures the mutual dependency between two variables based on entropy estimations.\n",
    "\n",
    "We are interested in evaluating the degree of dependency between each independent variable and the response variable. Higher values of mutual information show a higher degree of dependency which indicates that the independent variable will be useful for predicting the target.\n",
    "\n",
    "The following code computes the mutual information score between each categorical variable of the data set and the Churn variable."
   ]
  },
  {
   "cell_type": "code",
   "execution_count": 21,
   "id": "391ad8f6",
   "metadata": {
    "execution": {
     "iopub.execute_input": "2022-07-22T17:51:34.751952Z",
     "iopub.status.busy": "2022-07-22T17:51:34.751532Z",
     "iopub.status.idle": "2022-07-22T17:51:35.120792Z",
     "shell.execute_reply": "2022-07-22T17:51:35.119458Z"
    },
    "papermill": {
     "duration": 0.398719,
     "end_time": "2022-07-22T17:51:35.123732",
     "exception": false,
     "start_time": "2022-07-22T17:51:34.725013",
     "status": "completed"
    },
    "tags": []
   },
   "outputs": [
    {
     "name": "stdout",
     "output_type": "stream",
     "text": [
      "Contract            0.098182\n",
      "OnlineSecurity      0.064528\n",
      "TechSupport         0.062873\n",
      "InternetService     0.055394\n",
      "OnlineBackup        0.046659\n",
      "PaymentMethod       0.044423\n",
      "DeviceProtection    0.043784\n",
      "StreamingMovies     0.031918\n",
      "StreamingTV         0.031803\n",
      "PaperlessBilling    0.019119\n",
      "Dependents          0.014270\n",
      "Partner             0.011383\n",
      "MultipleLines       0.000798\n",
      "PhoneService        0.000069\n",
      "gender              0.000037\n",
      "dtype: float64\n"
     ]
    }
   ],
   "source": [
    "# function that computes the mutual infomation score between a categorical serie and the column Churn\n",
    "def compute_mutual_information(categorical_serie):\n",
    "    return mutual_info_score(categorical_serie, df.Churn)\n",
    "\n",
    "# select categorial variables excluding the response variable \n",
    "categorical_variables = df.select_dtypes(include=object).drop('Churn', axis=1)\n",
    "\n",
    "# compute the mutual information score between each categorical variable and the target\n",
    "feature_importance = categorical_variables.apply(compute_mutual_information).sort_values(ascending=False)\n",
    "\n",
    "# visualize feature importance\n",
    "print(feature_importance)"
   ]
  },
  {
   "cell_type": "markdown",
   "id": "99f10aec",
   "metadata": {
    "papermill": {
     "duration": 0.021695,
     "end_time": "2022-07-22T17:51:35.166367",
     "exception": false,
     "start_time": "2022-07-22T17:51:35.144672",
     "status": "completed"
    },
    "tags": []
   },
   "source": [
    "Mutual information allows us not only to better understand our data but also to identify the predictor variables that are completely independent of the target. \n",
    "\n",
    "As shown above, gender, PhoneService, and MultipleLines have a mutual information score really close to 0, meaning those variables do not have a strong relationship with the target. This information is in line with the conclusions we have previously drawn by visualizing the data. \n",
    "\n",
    "In the following steps, we should consider removing those variables from the data set before training as they do not provide useful information for predicting the outcome."
   ]
  },
  {
   "cell_type": "markdown",
   "id": "e1b49223",
   "metadata": {
    "papermill": {
     "duration": 0.0231,
     "end_time": "2022-07-22T17:51:35.211310",
     "exception": false,
     "start_time": "2022-07-22T17:51:35.188210",
     "status": "completed"
    },
    "tags": []
   },
   "source": [
    "# 5. Feature Engineering"
   ]
  },
  {
   "cell_type": "markdown",
   "id": "35c03bec",
   "metadata": {
    "papermill": {
     "duration": 0.021276,
     "end_time": "2022-07-22T17:51:35.256043",
     "exception": false,
     "start_time": "2022-07-22T17:51:35.234767",
     "status": "completed"
    },
    "tags": []
   },
   "source": [
    "Feature engineering is the process of extracting features from the data and transforming them into a format that is suitable for the machine learning model. \n",
    "\n",
    "In this project, we need to transform both numerical and categorical variables. Most machine learning algorithms require numerical values; therefore, all categorical attributes available in the dataset should be encoded into numerical labels before training the model. \n",
    "\n",
    "In addition, we need to transform numeric columns into a common scale. This will prevent that the columns with large values dominate the learning process. "
   ]
  },
  {
   "cell_type": "markdown",
   "id": "679b5a79",
   "metadata": {
    "papermill": {
     "duration": 0.023443,
     "end_time": "2022-07-22T17:51:35.300463",
     "exception": false,
     "start_time": "2022-07-22T17:51:35.277020",
     "status": "completed"
    },
    "tags": []
   },
   "source": [
    "#### Label Encoding\n",
    "\n",
    "Label encoding is used to replace categorical values with numerical values. This encoding replaces every category with a numerical label. In this project, we use label encoding with the following binary variables: (1) gender, (2) Partner, (3) Dependents, (4)PaperlessBilling, (5)PhoneService , and (6)Churn ."
   ]
  },
  {
   "cell_type": "code",
   "execution_count": 22,
   "id": "ae4f47d9",
   "metadata": {
    "execution": {
     "iopub.execute_input": "2022-07-22T17:51:35.345686Z",
     "iopub.status.busy": "2022-07-22T17:51:35.344670Z",
     "iopub.status.idle": "2022-07-22T17:51:35.369533Z",
     "shell.execute_reply": "2022-07-22T17:51:35.368261Z"
    },
    "papermill": {
     "duration": 0.050421,
     "end_time": "2022-07-22T17:51:35.372329",
     "exception": false,
     "start_time": "2022-07-22T17:51:35.321908",
     "status": "completed"
    },
    "tags": []
   },
   "outputs": [],
   "source": [
    "df_transformed = df.copy()\n",
    "\n",
    "# label encoding (binary variables)\n",
    "label_encoding_columns = ['gender', 'Partner', 'Dependents', 'PaperlessBilling', 'PhoneService', 'Churn']\n",
    "\n",
    "# encode categorical binary features using label encoding\n",
    "for column in label_encoding_columns:\n",
    "    if column == 'gender':\n",
    "        df_transformed[column] = df_transformed[column].map({'Female': 1, 'Male': 0})\n",
    "    else: \n",
    "        df_transformed[column] = df_transformed[column].map({'Yes': 1, 'No': 0}) "
   ]
  },
  {
   "cell_type": "markdown",
   "id": "c30a44ef",
   "metadata": {
    "papermill": {
     "duration": 0.022351,
     "end_time": "2022-07-22T17:51:35.416876",
     "exception": false,
     "start_time": "2022-07-22T17:51:35.394525",
     "status": "completed"
    },
    "tags": []
   },
   "source": [
    "#### One-Hot Encoding\n",
    "\n",
    "One-hot encoding creates a new binary column for each level of the categorical variable. The new column contains zeros and ones indicating the absence or presence of the category in the data. In this project, we apply one-hot encoding to the following categorical variables: (1) Contract, (2) PaymentMethod, (3) MultipleLines, (4) InternetServices, (5) OnlineSecurity, (6) OnlineBackup, (7) DeviceProtection, (8) TechSupport, (9) StreamingTV, and (10)StreamingMovies."
   ]
  },
  {
   "cell_type": "code",
   "execution_count": 23,
   "id": "8dbd47e1",
   "metadata": {
    "execution": {
     "iopub.execute_input": "2022-07-22T17:51:35.461728Z",
     "iopub.status.busy": "2022-07-22T17:51:35.461312Z",
     "iopub.status.idle": "2022-07-22T17:51:35.491939Z",
     "shell.execute_reply": "2022-07-22T17:51:35.490720Z"
    },
    "papermill": {
     "duration": 0.056276,
     "end_time": "2022-07-22T17:51:35.495010",
     "exception": false,
     "start_time": "2022-07-22T17:51:35.438734",
     "status": "completed"
    },
    "tags": []
   },
   "outputs": [],
   "source": [
    "# one-hot encoding (categorical variables with more than two levels)\n",
    "one_hot_encoding_columns = ['MultipleLines', 'InternetService', 'OnlineSecurity', 'OnlineBackup', 'DeviceProtection', \n",
    "                            'TechSupport', 'StreamingTV',  'StreamingMovies', 'Contract', 'PaymentMethod']\n",
    "\n",
    "# encode categorical variables with more than two levels using one-hot encoding\n",
    "df_transformed = pd.get_dummies(df_transformed, columns = one_hot_encoding_columns)"
   ]
  },
  {
   "cell_type": "markdown",
   "id": "4438b543",
   "metadata": {
    "papermill": {
     "duration": 0.020743,
     "end_time": "2022-07-22T17:51:35.537195",
     "exception": false,
     "start_time": "2022-07-22T17:51:35.516452",
     "status": "completed"
    },
    "tags": []
   },
   "source": [
    "#### Normalization\n",
    "\n",
    "Data Normalization is transforming numeric columns to a common scale. Some feature values differ from others multiple times. The features with higher values will dominate the learning process; however, it does not mean those variables are more important to predict the target. Data normalization transforms multiscaled data to the same scale. After normalization, all variables have a similar influence on the model, improving the stability and performance of the learning algorithm.\n",
    "\n",
    "There are multiple normalization techniques in statistics. In this project, we will use the min-max method to rescale the numeric columns (tenure, MontlyCharges, and TotalCharges) to a common scale. The min-max approach (often called normalization) rescales the feature to a fixed range of [0,1] by subtracting the minimum value of the feature and then dividing by the range."
   ]
  },
  {
   "cell_type": "code",
   "execution_count": 24,
   "id": "a1e80bef",
   "metadata": {
    "execution": {
     "iopub.execute_input": "2022-07-22T17:51:35.581488Z",
     "iopub.status.busy": "2022-07-22T17:51:35.581079Z",
     "iopub.status.idle": "2022-07-22T17:51:35.591958Z",
     "shell.execute_reply": "2022-07-22T17:51:35.590825Z"
    },
    "papermill": {
     "duration": 0.036139,
     "end_time": "2022-07-22T17:51:35.594793",
     "exception": false,
     "start_time": "2022-07-22T17:51:35.558654",
     "status": "completed"
    },
    "tags": []
   },
   "outputs": [],
   "source": [
    "# min-max normalization (numeric variables)\n",
    "min_max_columns = ['tenure', 'MonthlyCharges', 'TotalCharges']\n",
    "\n",
    "# scale numerical variables using min max scaler\n",
    "for column in min_max_columns:\n",
    "        # minimum value of the column\n",
    "        min_column = df_transformed[column].min()\n",
    "        # maximum value of the column\n",
    "        max_column = df_transformed[column].max()\n",
    "        # min max scaler\n",
    "        df_transformed[column] = (df_transformed[column] - min_column) / (max_column - min_column)   "
   ]
  },
  {
   "cell_type": "markdown",
   "id": "1fbb1ae8",
   "metadata": {
    "papermill": {
     "duration": 0.022926,
     "end_time": "2022-07-22T17:51:35.640705",
     "exception": false,
     "start_time": "2022-07-22T17:51:35.617779",
     "status": "completed"
    },
    "tags": []
   },
   "source": [
    "# 6. Splitting the data in training and testing sets\n",
    "\n",
    "The first step when building a model is to split the data into two groups, which are typically referred to as training and testing sets. The training set is used by the machine learning algorithm to build the model. The test set contains samples that are not part of the learning process and is used to evaluate the model’s performance. It is important to assess the quality of the model using unseen data to guarantee an objective evaluation.\n",
    "\n",
    "we create a variable X to store the independent attributes of the dataset. Additionally, we create a variable y to store only the target variable (Churn)."
   ]
  },
  {
   "cell_type": "code",
   "execution_count": 25,
   "id": "6b0f7dae",
   "metadata": {
    "execution": {
     "iopub.execute_input": "2022-07-22T17:51:35.687766Z",
     "iopub.status.busy": "2022-07-22T17:51:35.686698Z",
     "iopub.status.idle": "2022-07-22T17:51:35.698396Z",
     "shell.execute_reply": "2022-07-22T17:51:35.696699Z"
    },
    "papermill": {
     "duration": 0.036393,
     "end_time": "2022-07-22T17:51:35.700955",
     "exception": false,
     "start_time": "2022-07-22T17:51:35.664562",
     "status": "completed"
    },
    "tags": []
   },
   "outputs": [
    {
     "name": "stdout",
     "output_type": "stream",
     "text": [
      "Index(['gender', 'SeniorCitizen', 'Partner', 'Dependents', 'tenure',\n",
      "       'PhoneService', 'PaperlessBilling', 'MonthlyCharges', 'TotalCharges',\n",
      "       'MultipleLines_No', 'MultipleLines_No phone service',\n",
      "       'MultipleLines_Yes', 'InternetService_DSL',\n",
      "       'InternetService_Fiber optic', 'InternetService_No',\n",
      "       'OnlineSecurity_No', 'OnlineSecurity_No internet service',\n",
      "       'OnlineSecurity_Yes', 'OnlineBackup_No',\n",
      "       'OnlineBackup_No internet service', 'OnlineBackup_Yes',\n",
      "       'DeviceProtection_No', 'DeviceProtection_No internet service',\n",
      "       'DeviceProtection_Yes', 'TechSupport_No',\n",
      "       'TechSupport_No internet service', 'TechSupport_Yes', 'StreamingTV_No',\n",
      "       'StreamingTV_No internet service', 'StreamingTV_Yes',\n",
      "       'StreamingMovies_No', 'StreamingMovies_No internet service',\n",
      "       'StreamingMovies_Yes', 'Contract_Month-to-month', 'Contract_One year',\n",
      "       'Contract_Two year', 'PaymentMethod_Bank transfer',\n",
      "       'PaymentMethod_Credit card', 'PaymentMethod_Electronic check',\n",
      "       'PaymentMethod_Mailed check'],\n",
      "      dtype='object')\n",
      "Churn\n"
     ]
    }
   ],
   "source": [
    "# select independent variables\n",
    "X = df_transformed.drop(columns='Churn')\n",
    "\n",
    "# select dependent variables\n",
    "y = df_transformed.loc[:, 'Churn']\n",
    "\n",
    "# prove that the variables were selected correctly\n",
    "print(X.columns)\n",
    "\n",
    "# prove that the variables were selected correctly\n",
    "print(y.name)"
   ]
  },
  {
   "cell_type": "markdown",
   "id": "f04de2f6",
   "metadata": {
    "papermill": {
     "duration": 0.020558,
     "end_time": "2022-07-22T17:51:35.743911",
     "exception": false,
     "start_time": "2022-07-22T17:51:35.723353",
     "status": "completed"
    },
    "tags": []
   },
   "source": [
    "We can use the train_test_split function from the sklearn.model_selection package to create both the training and testing sets."
   ]
  },
  {
   "cell_type": "code",
   "execution_count": 26,
   "id": "74bed33a",
   "metadata": {
    "execution": {
     "iopub.execute_input": "2022-07-22T17:51:35.789110Z",
     "iopub.status.busy": "2022-07-22T17:51:35.788727Z",
     "iopub.status.idle": "2022-07-22T17:51:35.798218Z",
     "shell.execute_reply": "2022-07-22T17:51:35.797050Z"
    },
    "papermill": {
     "duration": 0.036528,
     "end_time": "2022-07-22T17:51:35.801276",
     "exception": false,
     "start_time": "2022-07-22T17:51:35.764748",
     "status": "completed"
    },
    "tags": []
   },
   "outputs": [],
   "source": [
    "# split the data in training and testing sets\n",
    "X_train, X_test, y_train, y_test = train_test_split(X, y, test_size=0.25,\n",
    "                                                    random_state=40, shuffle=True)"
   ]
  },
  {
   "cell_type": "code",
   "execution_count": 27,
   "id": "c9e94ece",
   "metadata": {
    "execution": {
     "iopub.execute_input": "2022-07-22T17:51:35.845393Z",
     "iopub.status.busy": "2022-07-22T17:51:35.844987Z",
     "iopub.status.idle": "2022-07-22T17:51:36.116861Z",
     "shell.execute_reply": "2022-07-22T17:51:36.115651Z"
    },
    "papermill": {
     "duration": 0.29761,
     "end_time": "2022-07-22T17:51:36.119865",
     "exception": false,
     "start_time": "2022-07-22T17:51:35.822255",
     "status": "completed"
    },
    "tags": []
   },
   "outputs": [],
   "source": [
    "from sklearn.dummy import DummyClassifier\n",
    "from sklearn.neighbors import KNeighborsClassifier\n",
    "from sklearn.linear_model import LogisticRegression\n",
    "from sklearn.svm import SVC\n",
    "from sklearn.ensemble import RandomForestClassifier\n",
    "from sklearn.ensemble import GradientBoostingClassifier"
   ]
  },
  {
   "cell_type": "code",
   "execution_count": 28,
   "id": "f19605a2",
   "metadata": {
    "execution": {
     "iopub.execute_input": "2022-07-22T17:51:36.163574Z",
     "iopub.status.busy": "2022-07-22T17:51:36.162674Z",
     "iopub.status.idle": "2022-07-22T17:51:36.171984Z",
     "shell.execute_reply": "2022-07-22T17:51:36.170893Z"
    },
    "papermill": {
     "duration": 0.033714,
     "end_time": "2022-07-22T17:51:36.174436",
     "exception": false,
     "start_time": "2022-07-22T17:51:36.140722",
     "status": "completed"
    },
    "tags": []
   },
   "outputs": [],
   "source": [
    "def create_models(seed=2):\n",
    "    '''\n",
    "    Create a list of machine learning models.\n",
    "            Parameters:\n",
    "                    seed (integer): random seed of the models\n",
    "            Returns:\n",
    "                    models (list): list containing the models\n",
    "    '''\n",
    "\n",
    "    models = []\n",
    "    models.append(('dummy_classifier', DummyClassifier(random_state=seed, strategy='most_frequent')))\n",
    "    models.append(('k_nearest_neighbors', KNeighborsClassifier()))\n",
    "    models.append(('logistic_regression', LogisticRegression(random_state=seed)))\n",
    "    models.append(('support_vector_machines', SVC(random_state=seed)))\n",
    "    models.append(('random_forest', RandomForestClassifier(random_state=seed)))\n",
    "    models.append(('gradient_boosting', GradientBoostingClassifier(random_state=seed)))\n",
    "    \n",
    "    return models\n",
    "\n",
    "# create a list with all the algorithms we are going to assess\n",
    "models = create_models()"
   ]
  },
  {
   "cell_type": "code",
   "execution_count": 29,
   "id": "ac137a12",
   "metadata": {
    "execution": {
     "iopub.execute_input": "2022-07-22T17:51:36.221118Z",
     "iopub.status.busy": "2022-07-22T17:51:36.220233Z",
     "iopub.status.idle": "2022-07-22T17:51:36.225704Z",
     "shell.execute_reply": "2022-07-22T17:51:36.224789Z"
    },
    "papermill": {
     "duration": 0.032046,
     "end_time": "2022-07-22T17:51:36.228388",
     "exception": false,
     "start_time": "2022-07-22T17:51:36.196342",
     "status": "completed"
    },
    "tags": []
   },
   "outputs": [],
   "source": [
    "from sklearn.metrics import accuracy_score"
   ]
  },
  {
   "cell_type": "code",
   "execution_count": 30,
   "id": "58c730df",
   "metadata": {
    "execution": {
     "iopub.execute_input": "2022-07-22T17:51:36.276415Z",
     "iopub.status.busy": "2022-07-22T17:51:36.275580Z",
     "iopub.status.idle": "2022-07-22T17:51:41.029124Z",
     "shell.execute_reply": "2022-07-22T17:51:41.027665Z"
    },
    "papermill": {
     "duration": 4.782195,
     "end_time": "2022-07-22T17:51:41.031614",
     "exception": false,
     "start_time": "2022-07-22T17:51:36.249419",
     "status": "completed"
    },
    "tags": []
   },
   "outputs": [
    {
     "name": "stdout",
     "output_type": "stream",
     "text": [
      "Classifier: dummy_classifier, Accuracy: 0.745164960182025)\n",
      "Classifier: k_nearest_neighbors, Accuracy: 0.7531285551763367)\n",
      "Classifier: logistic_regression, Accuracy: 0.7923777019340159)\n"
     ]
    },
    {
     "name": "stderr",
     "output_type": "stream",
     "text": [
      "/opt/conda/lib/python3.7/site-packages/sklearn/linear_model/_logistic.py:818: ConvergenceWarning: lbfgs failed to converge (status=1):\n",
      "STOP: TOTAL NO. of ITERATIONS REACHED LIMIT.\n",
      "\n",
      "Increase the number of iterations (max_iter) or scale the data as shown in:\n",
      "    https://scikit-learn.org/stable/modules/preprocessing.html\n",
      "Please also refer to the documentation for alternative solver options:\n",
      "    https://scikit-learn.org/stable/modules/linear_model.html#logistic-regression\n",
      "  extra_warning_msg=_LOGISTIC_SOLVER_CONVERGENCE_MSG,\n"
     ]
    },
    {
     "name": "stdout",
     "output_type": "stream",
     "text": [
      "Classifier: support_vector_machines, Accuracy: 0.7878270762229806)\n",
      "Classifier: random_forest, Accuracy: 0.7713310580204779)\n",
      "Classifier: gradient_boosting, Accuracy: 0.7963594994311718)\n"
     ]
    }
   ],
   "source": [
    "# test the accuracy of each model using default hyperparameters\n",
    "results = []\n",
    "names = []\n",
    "scoring = 'accuracy'\n",
    "for name, model in models:\n",
    "    # fit the model with the training data\n",
    "    model.fit(X_train, y_train).predict(X_test)\n",
    "    # make predictions with the testing data\n",
    "    predictions = model.predict(X_test)\n",
    "    # calculate accuracy \n",
    "    accuracy = accuracy_score(y_test, predictions)\n",
    "    # append the model name and the accuracy to the lists\n",
    "    results.append(accuracy)\n",
    "    names.append(name)\n",
    "    # print classifier accuracy\n",
    "    print('Classifier: {}, Accuracy: {})'.format(name, accuracy))"
   ]
  }
 ],
 "metadata": {
  "kernelspec": {
   "display_name": "Python 3",
   "language": "python",
   "name": "python3"
  },
  "language_info": {
   "codemirror_mode": {
    "name": "ipython",
    "version": 3
   },
   "file_extension": ".py",
   "mimetype": "text/x-python",
   "name": "python",
   "nbconvert_exporter": "python",
   "pygments_lexer": "ipython3",
   "version": "3.7.12"
  },
  "papermill": {
   "default_parameters": {},
   "duration": 27.368487,
   "end_time": "2022-07-22T17:51:41.979023",
   "environment_variables": {},
   "exception": null,
   "input_path": "__notebook__.ipynb",
   "output_path": "__notebook__.ipynb",
   "parameters": {},
   "start_time": "2022-07-22T17:51:14.610536",
   "version": "2.3.4"
  }
 },
 "nbformat": 4,
 "nbformat_minor": 5
}
